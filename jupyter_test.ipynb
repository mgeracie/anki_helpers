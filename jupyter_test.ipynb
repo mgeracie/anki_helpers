{
 "cells": [
  {
   "attachments": {},
   "cell_type": "markdown",
   "metadata": {},
   "source": [
    "## Import\n",
    "\n",
    "Load data."
   ]
  },
  {
   "cell_type": "code",
   "execution_count": 2,
   "metadata": {},
   "outputs": [
    {
     "name": "stdout",
     "output_type": "stream",
     "text": [
      "Shape: (1895, 8)\n"
     ]
    },
    {
     "data": {
      "text/html": [
       "<div>\n",
       "<style scoped>\n",
       "    .dataframe tbody tr th:only-of-type {\n",
       "        vertical-align: middle;\n",
       "    }\n",
       "\n",
       "    .dataframe tbody tr th {\n",
       "        vertical-align: top;\n",
       "    }\n",
       "\n",
       "    .dataframe thead th {\n",
       "        text-align: right;\n",
       "    }\n",
       "</style>\n",
       "<table border=\"1\" class=\"dataframe\">\n",
       "  <thead>\n",
       "    <tr style=\"text-align: right;\">\n",
       "      <th></th>\n",
       "      <th>Hanzi</th>\n",
       "      <th>Meaning</th>\n",
       "      <th>Reading</th>\n",
       "      <th>Color</th>\n",
       "      <th>Mean Word</th>\n",
       "      <th>Sound</th>\n",
       "      <th>Traditional</th>\n",
       "      <th>Silhouette</th>\n",
       "    </tr>\n",
       "  </thead>\n",
       "  <tbody>\n",
       "    <tr>\n",
       "      <th>0</th>\n",
       "      <td>滑稽</td>\n",
       "      <td>funny (w/ h)&lt;div&gt;comical&lt;/div&gt;&lt;div&gt;amusing&lt;/div&gt;</td>\n",
       "      <td>huájī</td>\n",
       "      <td>滑稽</td>\n",
       "      <td>NaN</td>\n",
       "      <td>NaN</td>\n",
       "      <td>NaN</td>\n",
       "      <td>NaN</td>\n",
       "    </tr>\n",
       "    <tr>\n",
       "      <th>1</th>\n",
       "      <td>不禁</td>\n",
       "      <td>\"can't help (doing something)\"</td>\n",
       "      <td>bùjīn</td>\n",
       "      <td>不禁</td>\n",
       "      <td>NaN</td>\n",
       "      <td>NaN</td>\n",
       "      <td>NaN</td>\n",
       "      <td>_ _</td>\n",
       "    </tr>\n",
       "    <tr>\n",
       "      <th>2</th>\n",
       "      <td>湖面</td>\n",
       "      <td>surface of a lake</td>\n",
       "      <td>húmiàn</td>\n",
       "      <td>湖面</td>\n",
       "      <td>NaN</td>\n",
       "      <td>NaN</td>\n",
       "      <td>NaN</td>\n",
       "      <td>NaN</td>\n",
       "    </tr>\n",
       "    <tr>\n",
       "      <th>3</th>\n",
       "      <td>打翻</td>\n",
       "      <td>&lt;div&gt;to knock over&lt;/div&gt;to overturn&lt;div&gt;to ove...</td>\n",
       "      <td>dǎfān</td>\n",
       "      <td>打翻</td>\n",
       "      <td>NaN</td>\n",
       "      <td>NaN</td>\n",
       "      <td>NaN</td>\n",
       "      <td>_ _</td>\n",
       "    </tr>\n",
       "    <tr>\n",
       "      <th>4</th>\n",
       "      <td>友谊</td>\n",
       "      <td>friendship&lt;div&gt;companionship&lt;/div&gt;</td>\n",
       "      <td>yǒuyì</td>\n",
       "      <td>友谊</td>\n",
       "      <td>NaN</td>\n",
       "      <td>NaN</td>\n",
       "      <td>NaN</td>\n",
       "      <td>NaN</td>\n",
       "    </tr>\n",
       "  </tbody>\n",
       "</table>\n",
       "</div>"
      ],
      "text/plain": [
       "  Hanzi                                            Meaning Reading Color   \n",
       "0    滑稽   funny (w/ h)<div>comical</div><div>amusing</div>   huájī    滑稽  \\\n",
       "1    不禁                     \"can't help (doing something)\"   bùjīn    不禁   \n",
       "2    湖面                                  surface of a lake  húmiàn    湖面   \n",
       "3    打翻  <div>to knock over</div>to overturn<div>to ove...   dǎfān    打翻   \n",
       "4    友谊                 friendship<div>companionship</div>   yǒuyì    友谊   \n",
       "\n",
       "  Mean Word Sound Traditional Silhouette  \n",
       "0       NaN   NaN         NaN        NaN  \n",
       "1       NaN   NaN         NaN        _ _  \n",
       "2       NaN   NaN         NaN        NaN  \n",
       "3       NaN   NaN         NaN        _ _  \n",
       "4       NaN   NaN         NaN        NaN  "
      ]
     },
     "execution_count": 2,
     "metadata": {},
     "output_type": "execute_result"
    }
   ],
   "source": [
    "import pandas as pd\n",
    "from bs4 import BeautifulSoup\n",
    "from pinyin_tone_converter.pinyin_tone_converter import PinyinToneConverter\n",
    "from util_funcs import *\n",
    "import opencc\n",
    "\n",
    "path = \"Active_Chinese_20230503.csv\"\n",
    "cols = [\"Hanzi\", \"Meaning\", \"Reading\", \"Color\", \"Mean Word\", \"Sound\", \"Traditional\", \"Silhouette\"]\n",
    "df = pd.read_csv(path)[cols]\n",
    "\n",
    "print(\"Shape:\", df.shape)\n",
    "df.head()"
   ]
  },
  {
   "attachments": {},
   "cell_type": "markdown",
   "metadata": {},
   "source": [
    "## Reading\n",
    "\n",
    "Convert reading to pinyin. Then add color."
   ]
  },
  {
   "cell_type": "code",
   "execution_count": 12,
   "metadata": {},
   "outputs": [
    {
     "name": "stdout",
     "output_type": "stream",
     "text": [
      "Number of cells edited: 170 (9.0%)\n",
      "CPU times: total: 2min 23s\n",
      "Wall time: 7min 58s\n"
     ]
    },
    {
     "data": {
      "text/html": [
       "<div>\n",
       "<style scoped>\n",
       "    .dataframe tbody tr th:only-of-type {\n",
       "        vertical-align: middle;\n",
       "    }\n",
       "\n",
       "    .dataframe tbody tr th {\n",
       "        vertical-align: top;\n",
       "    }\n",
       "\n",
       "    .dataframe thead th {\n",
       "        text-align: right;\n",
       "    }\n",
       "</style>\n",
       "<table border=\"1\" class=\"dataframe\">\n",
       "  <thead>\n",
       "    <tr style=\"text-align: right;\">\n",
       "      <th></th>\n",
       "      <th>Hanzi</th>\n",
       "      <th>Meaning</th>\n",
       "      <th>Reading</th>\n",
       "      <th>Color</th>\n",
       "      <th>Mean Word</th>\n",
       "      <th>Sound</th>\n",
       "      <th>Traditional</th>\n",
       "      <th>Silhouette</th>\n",
       "    </tr>\n",
       "  </thead>\n",
       "  <tbody>\n",
       "    <tr>\n",
       "      <th>0</th>\n",
       "      <td>滑稽</td>\n",
       "      <td>funny (w/ h)&lt;div&gt;comical&lt;/div&gt;&lt;div&gt;amusing&lt;/div&gt;</td>\n",
       "      <td>&lt;span class = 'tone2'&gt;huá&lt;/span&gt;&lt;span class = ...</td>\n",
       "      <td>滑稽</td>\n",
       "      <td>NaN</td>\n",
       "      <td>NaN</td>\n",
       "      <td>NaN</td>\n",
       "      <td>NaN</td>\n",
       "    </tr>\n",
       "    <tr>\n",
       "      <th>1</th>\n",
       "      <td>不禁</td>\n",
       "      <td>\"can't help (doing something)\"</td>\n",
       "      <td>&lt;span class = 'tone4'&gt;bù&lt;/span&gt;&lt;span class = '...</td>\n",
       "      <td>不禁</td>\n",
       "      <td>NaN</td>\n",
       "      <td>NaN</td>\n",
       "      <td>NaN</td>\n",
       "      <td>_ _</td>\n",
       "    </tr>\n",
       "    <tr>\n",
       "      <th>2</th>\n",
       "      <td>湖面</td>\n",
       "      <td>surface of a lake</td>\n",
       "      <td>&lt;span class = 'tone2'&gt;hú&lt;/span&gt;&lt;span class = '...</td>\n",
       "      <td>湖面</td>\n",
       "      <td>NaN</td>\n",
       "      <td>NaN</td>\n",
       "      <td>NaN</td>\n",
       "      <td>NaN</td>\n",
       "    </tr>\n",
       "    <tr>\n",
       "      <th>3</th>\n",
       "      <td>打翻</td>\n",
       "      <td>&lt;div&gt;to knock over&lt;/div&gt;to overturn&lt;div&gt;to ove...</td>\n",
       "      <td>&lt;span class = 'tone3'&gt;dǎ&lt;/span&gt;&lt;span class = '...</td>\n",
       "      <td>打翻</td>\n",
       "      <td>NaN</td>\n",
       "      <td>NaN</td>\n",
       "      <td>NaN</td>\n",
       "      <td>_ _</td>\n",
       "    </tr>\n",
       "    <tr>\n",
       "      <th>4</th>\n",
       "      <td>友谊</td>\n",
       "      <td>friendship&lt;div&gt;companionship&lt;/div&gt;</td>\n",
       "      <td>&lt;span class = 'tone3'&gt;yǒu&lt;/span&gt;&lt;span class = ...</td>\n",
       "      <td>友谊</td>\n",
       "      <td>NaN</td>\n",
       "      <td>NaN</td>\n",
       "      <td>NaN</td>\n",
       "      <td>NaN</td>\n",
       "    </tr>\n",
       "  </tbody>\n",
       "</table>\n",
       "</div>"
      ],
      "text/plain": [
       "  Hanzi                                            Meaning   \n",
       "0    滑稽   funny (w/ h)<div>comical</div><div>amusing</div>  \\\n",
       "1    不禁                     \"can't help (doing something)\"   \n",
       "2    湖面                                  surface of a lake   \n",
       "3    打翻  <div>to knock over</div>to overturn<div>to ove...   \n",
       "4    友谊                 friendship<div>companionship</div>   \n",
       "\n",
       "                                             Reading Color Mean Word Sound   \n",
       "0  <span class = 'tone2'>huá</span><span class = ...    滑稽       NaN   NaN  \\\n",
       "1  <span class = 'tone4'>bù</span><span class = '...    不禁       NaN   NaN   \n",
       "2  <span class = 'tone2'>hú</span><span class = '...    湖面       NaN   NaN   \n",
       "3  <span class = 'tone3'>dǎ</span><span class = '...    打翻       NaN   NaN   \n",
       "4  <span class = 'tone3'>yǒu</span><span class = ...    友谊       NaN   NaN   \n",
       "\n",
       "  Traditional Silhouette  \n",
       "0         NaN        NaN  \n",
       "1         NaN        _ _  \n",
       "2         NaN        NaN  \n",
       "3         NaN        _ _  \n",
       "4         NaN        NaN  "
      ]
     },
     "execution_count": 12,
     "metadata": {},
     "output_type": "execute_result"
    }
   ],
   "source": [
    "%%time\n",
    "\n",
    "reading = df[\"Reading\"].astype(str)\n",
    "reading_edited = (reading\n",
    "                    # .swifter\n",
    "                    .apply(BeautifulSoup, features = \"html.parser\")\n",
    "                    .apply(lambda x: x.get_text().strip())\n",
    "                    .apply(PinyinToneConverter().convert_text)\n",
    "                )\n",
    "reading_colored = reading_edited.apply(stylize_str)\n",
    "df[\"Reading\"] = reading_colored\n",
    "\n",
    "num_edits = sum(reading != reading_edited)\n",
    "print(f\"Number of cells edited: {num_edits} ({num_edits / df.shape[0]:.1%})\")\n",
    "df.head()"
   ]
  },
  {
   "cell_type": "code",
   "execution_count": 13,
   "metadata": {},
   "outputs": [],
   "source": [
    "df.to_csv(\"Active_Chinese_reading_edited_colored.csv\")"
   ]
  },
  {
   "attachments": {},
   "cell_type": "markdown",
   "metadata": {},
   "source": [
    "## Meaning"
   ]
  },
  {
   "cell_type": "code",
   "execution_count": 15,
   "metadata": {},
   "outputs": [
    {
     "name": "stdout",
     "output_type": "stream",
     "text": [
      "CPU times: total: 0 ns\n",
      "Wall time: 37.5 ms\n"
     ]
    }
   ],
   "source": [
    "%%time \n",
    "\n",
    "meaning = df[\"Meaning\"].astype(str)\n",
    "meaning_edited = meaning.apply(strip_html)\n",
    "meaning_edited[meaning_edited != meaning].head()\n",
    "df[\"Meaning\"] = meaning_edited\n",
    "df.to_csv(\"Active_Chinese_meaning_edited_20230527.csv\")"
   ]
  },
  {
   "attachments": {},
   "cell_type": "markdown",
   "metadata": {},
   "source": [
    "# Hanzi"
   ]
  },
  {
   "cell_type": "code",
   "execution_count": 45,
   "metadata": {},
   "outputs": [
    {
     "name": "stdout",
     "output_type": "stream",
     "text": [
      "Number of alterations: 8\n"
     ]
    }
   ],
   "source": [
    "hanzi = df[\"Hanzi\"]\n",
    "hanzi_edited = hanzi.apply(strip_html)\n",
    "df[\"Hanzi\"] = hanzi_edited\n",
    "\n",
    "num_changes = (hanzi_edited != hanzi).sum()\n",
    "print(\"Number of alterations:\", num_changes)"
   ]
  },
  {
   "attachments": {},
   "cell_type": "markdown",
   "metadata": {},
   "source": [
    "# Color"
   ]
  },
  {
   "cell_type": "code",
   "execution_count": 53,
   "metadata": {},
   "outputs": [
    {
     "name": "stderr",
     "output_type": "stream",
     "text": [
      "<timed exec>:9: SettingWithCopyWarning: \n",
      "A value is trying to be set on a copy of a slice from a DataFrame.\n",
      "Try using .loc[row_indexer,col_indexer] = value instead\n",
      "\n",
      "See the caveats in the documentation: https://pandas.pydata.org/pandas-docs/stable/user_guide/indexing.html#returning-a-view-versus-a-copy\n"
     ]
    },
    {
     "name": "stdout",
     "output_type": "stream",
     "text": [
      "CPU times: total: 3min 40s\n",
      "Wall time: 11min 55s\n"
     ]
    },
    {
     "name": "stderr",
     "output_type": "stream",
     "text": [
      "<timed exec>:10: SettingWithCopyWarning: \n",
      "A value is trying to be set on a copy of a slice from a DataFrame.\n",
      "Try using .loc[row_indexer,col_indexer] = value instead\n",
      "\n",
      "See the caveats in the documentation: https://pandas.pydata.org/pandas-docs/stable/user_guide/indexing.html#returning-a-view-versus-a-copy\n"
     ]
    }
   ],
   "source": [
    "%%time\n",
    "\n",
    "hanzi = df[[\"Hanzi\", \"Reading\"]]\n",
    "hanzi[\"Reading\"] = hanzi[\"Reading\"].apply(strip_html)\n",
    "hanzi[\"Hanzi\"] = hanzi.apply(lambda row: safe_stylize_hanzi(s_pin = row[\"Reading\"], s_char = row[\"Hanzi\"]), axis = 1)\n",
    "# for i in range(hanzi.shape[0]):\n",
    "#     row = hanzi.iloc[i]\n",
    "#     stylize_str(s_pin = row[\"Reading\"], s_char = row[\"Hanzi\"])"
   ]
  },
  {
   "cell_type": "code",
   "execution_count": 60,
   "metadata": {},
   "outputs": [
    {
     "data": {
      "text/plain": [
       "814            白白... (color error)\n",
       "977               贵族 (color error)\n",
       "1653        调 (w/ t) (color error)\n",
       "1697    倒 (4th tone) (color error)\n",
       "1698    倒 (3rd tone) (color error)\n",
       "1796        钻 (noun) (color error)\n",
       "1797          钻 (v.) (color error)\n",
       "1800    觉 (2nd tone) (color error)\n",
       "1802    兴 (1st tone) (color error)\n",
       "1803    兴 (4th tone) (color error)\n",
       "1805    数 (3rd tone) (color error)\n",
       "1806     数(4th tone) (color error)\n",
       "1809         扇(noun) (color error)\n",
       "1810           扇(v.) (color error)\n",
       "1839    佣 (4th tone) (color error)\n",
       "1840    佣 (1st tone) (color error)\n",
       "Name: Color, dtype: object"
      ]
     },
     "execution_count": 60,
     "metadata": {},
     "output_type": "execute_result"
    }
   ],
   "source": [
    "color = hanzi.rename(columns = {\"Hanzi\": \"Color\"})[\"Color\"]\n",
    "df[\"Color\"] = color\n",
    "color[color.apply(lambda x : \"color error\" in x)]"
   ]
  },
  {
   "cell_type": "code",
   "execution_count": 61,
   "metadata": {},
   "outputs": [],
   "source": [
    "df.to_csv(\"hanzi_meaning_reading_color.csv\")"
   ]
  },
  {
   "attachments": {},
   "cell_type": "markdown",
   "metadata": {},
   "source": [
    "# Silhouette"
   ]
  },
  {
   "cell_type": "code",
   "execution_count": 69,
   "metadata": {},
   "outputs": [],
   "source": [
    "df[\"Silhouette\"] = df[\"Hanzi\"].apply(get_silhouette)\n",
    "df.to_csv(\"hanzi_meaning_reading_color_silhouette.csv\")"
   ]
  },
  {
   "attachments": {},
   "cell_type": "markdown",
   "metadata": {},
   "source": [
    "# Traditional"
   ]
  },
  {
   "cell_type": "code",
   "execution_count": 94,
   "metadata": {},
   "outputs": [],
   "source": [
    "converter = opencc.OpenCC('s2t.json')\n",
    "df[\"Traditional\"] = df[\"Hanzi\"].apply(converter.convert)\n",
    "df.to_csv(\"hanzi_meaning_reading_color_traditional_silhouette.csv\")"
   ]
  },
  {
   "attachments": {},
   "cell_type": "markdown",
   "metadata": {},
   "source": [
    "# Traditional Colored"
   ]
  },
  {
   "cell_type": "code",
   "execution_count": 3,
   "metadata": {},
   "outputs": [
    {
     "data": {
      "text/plain": [
       "0    <span class = 'tone5'>滑稽</span>\n",
       "1    <span class = 'tone5'>不禁</span>\n",
       "2    <span class = 'tone5'>湖面</span>\n",
       "3    <span class = 'tone5'>打翻</span>\n",
       "4    <span class = 'tone5'>友誼</span>\n",
       "dtype: object"
      ]
     },
     "execution_count": 3,
     "metadata": {},
     "output_type": "execute_result"
    }
   ],
   "source": [
    "df = pd.read_csv(\"hanzi_meaning_reading_color_traditional_silhouette.csv\")\n",
    "traditional_colored = df[[\"Traditional\", \"Reading\"]].apply(lambda row: safe_stylize_hanzi(s_pin = row[\"Reading\"], s_char = row[\"Traditional\"]), axis = 1)\n",
    "traditional_colored.head()"
   ]
  },
  {
   "cell_type": "code",
   "execution_count": 4,
   "metadata": {},
   "outputs": [
    {
     "data": {
      "text/plain": [
       "0       <span class = 'tone5'>滑稽</span>\n",
       "1       <span class = 'tone5'>不禁</span>\n",
       "2       <span class = 'tone5'>湖面</span>\n",
       "3       <span class = 'tone5'>打翻</span>\n",
       "4       <span class = 'tone5'>友誼</span>\n",
       "                     ...               \n",
       "1890    <span class = 'tone5'>撤退</span>\n",
       "1891    <span class = 'tone5'>損毀</span>\n",
       "1892    <span class = 'tone5'>卑微</span>\n",
       "1893     <span class = 'tone5'>微</span>\n",
       "1894     <span class = 'tone5'>毀</span>\n",
       "Length: 1895, dtype: object"
      ]
     },
     "execution_count": 4,
     "metadata": {},
     "output_type": "execute_result"
    }
   ],
   "source": [
    "traditional_colored"
   ]
  }
 ],
 "metadata": {
  "kernelspec": {
   "display_name": ".venv",
   "language": "python",
   "name": "python3"
  },
  "language_info": {
   "codemirror_mode": {
    "name": "ipython",
    "version": 3
   },
   "file_extension": ".py",
   "mimetype": "text/x-python",
   "name": "python",
   "nbconvert_exporter": "python",
   "pygments_lexer": "ipython3",
   "version": "3.9.2"
  },
  "orig_nbformat": 4
 },
 "nbformat": 4,
 "nbformat_minor": 2
}
