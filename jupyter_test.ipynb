{
 "cells": [
  {
   "attachments": {},
   "cell_type": "markdown",
   "metadata": {},
   "source": [
    "## Import\n",
    "\n",
    "Load data."
   ]
  },
  {
   "cell_type": "code",
   "execution_count": 1,
   "metadata": {},
   "outputs": [
    {
     "name": "stdout",
     "output_type": "stream",
     "text": [
      "Shape: (1895, 8)\n"
     ]
    },
    {
     "data": {
      "text/html": [
       "<div>\n",
       "<style scoped>\n",
       "    .dataframe tbody tr th:only-of-type {\n",
       "        vertical-align: middle;\n",
       "    }\n",
       "\n",
       "    .dataframe tbody tr th {\n",
       "        vertical-align: top;\n",
       "    }\n",
       "\n",
       "    .dataframe thead th {\n",
       "        text-align: right;\n",
       "    }\n",
       "</style>\n",
       "<table border=\"1\" class=\"dataframe\">\n",
       "  <thead>\n",
       "    <tr style=\"text-align: right;\">\n",
       "      <th></th>\n",
       "      <th>Hanzi</th>\n",
       "      <th>Meaning</th>\n",
       "      <th>Reading</th>\n",
       "      <th>Color</th>\n",
       "      <th>Mean Word</th>\n",
       "      <th>Sound</th>\n",
       "      <th>Traditional</th>\n",
       "      <th>Silhouette</th>\n",
       "    </tr>\n",
       "  </thead>\n",
       "  <tbody>\n",
       "    <tr>\n",
       "      <th>0</th>\n",
       "      <td>滑稽</td>\n",
       "      <td>funny (w/ h)&lt;div&gt;comical&lt;/div&gt;&lt;div&gt;amusing&lt;/div&gt;</td>\n",
       "      <td>huájī</td>\n",
       "      <td>滑稽</td>\n",
       "      <td>NaN</td>\n",
       "      <td>NaN</td>\n",
       "      <td>NaN</td>\n",
       "      <td>NaN</td>\n",
       "    </tr>\n",
       "    <tr>\n",
       "      <th>1</th>\n",
       "      <td>不禁</td>\n",
       "      <td>\"can't help (doing something)\"</td>\n",
       "      <td>bùjīn</td>\n",
       "      <td>不禁</td>\n",
       "      <td>NaN</td>\n",
       "      <td>NaN</td>\n",
       "      <td>NaN</td>\n",
       "      <td>_ _</td>\n",
       "    </tr>\n",
       "    <tr>\n",
       "      <th>2</th>\n",
       "      <td>湖面</td>\n",
       "      <td>surface of a lake</td>\n",
       "      <td>húmiàn</td>\n",
       "      <td>湖面</td>\n",
       "      <td>NaN</td>\n",
       "      <td>NaN</td>\n",
       "      <td>NaN</td>\n",
       "      <td>NaN</td>\n",
       "    </tr>\n",
       "    <tr>\n",
       "      <th>3</th>\n",
       "      <td>打翻</td>\n",
       "      <td>&lt;div&gt;to knock over&lt;/div&gt;to overturn&lt;div&gt;to ove...</td>\n",
       "      <td>dǎfān</td>\n",
       "      <td>打翻</td>\n",
       "      <td>NaN</td>\n",
       "      <td>NaN</td>\n",
       "      <td>NaN</td>\n",
       "      <td>_ _</td>\n",
       "    </tr>\n",
       "    <tr>\n",
       "      <th>4</th>\n",
       "      <td>友谊</td>\n",
       "      <td>friendship&lt;div&gt;companionship&lt;/div&gt;</td>\n",
       "      <td>yǒuyì</td>\n",
       "      <td>友谊</td>\n",
       "      <td>NaN</td>\n",
       "      <td>NaN</td>\n",
       "      <td>NaN</td>\n",
       "      <td>NaN</td>\n",
       "    </tr>\n",
       "  </tbody>\n",
       "</table>\n",
       "</div>"
      ],
      "text/plain": [
       "  Hanzi                                            Meaning Reading Color   \n",
       "0    滑稽   funny (w/ h)<div>comical</div><div>amusing</div>   huájī    滑稽  \\\n",
       "1    不禁                     \"can't help (doing something)\"   bùjīn    不禁   \n",
       "2    湖面                                  surface of a lake  húmiàn    湖面   \n",
       "3    打翻  <div>to knock over</div>to overturn<div>to ove...   dǎfān    打翻   \n",
       "4    友谊                 friendship<div>companionship</div>   yǒuyì    友谊   \n",
       "\n",
       "  Mean Word Sound Traditional Silhouette  \n",
       "0       NaN   NaN         NaN        NaN  \n",
       "1       NaN   NaN         NaN        _ _  \n",
       "2       NaN   NaN         NaN        NaN  \n",
       "3       NaN   NaN         NaN        _ _  \n",
       "4       NaN   NaN         NaN        NaN  "
      ]
     },
     "execution_count": 1,
     "metadata": {},
     "output_type": "execute_result"
    }
   ],
   "source": [
    "import pandas as pd\n",
    "import swifter\n",
    "from bs4 import BeautifulSoup\n",
    "from pinyin_tone_converter.pinyin_tone_converter import PinyinToneConverter\n",
    "from util_funcs import *\n",
    "swifter.set_defaults(allow_dask_on_strings = True)\n",
    "\n",
    "path = \"Active_Chinese_20230503.csv\"\n",
    "cols = [\"Hanzi\", \"Meaning\", \"Reading\", \"Color\", \"Mean Word\", \"Sound\", \"Traditional\", \"Silhouette\"]\n",
    "df = pd.read_csv(path)[cols]\n",
    "\n",
    "print(\"Shape:\", df.shape)\n",
    "df.head()"
   ]
  },
  {
   "attachments": {},
   "cell_type": "markdown",
   "metadata": {},
   "source": [
    "## Reading Col\n",
    "\n",
    "Convert reading to pinyin. Then add color."
   ]
  },
  {
   "cell_type": "code",
   "execution_count": 2,
   "metadata": {},
   "outputs": [
    {
     "ename": "KeyboardInterrupt",
     "evalue": "",
     "output_type": "error",
     "traceback": [
      "\u001b[1;31m---------------------------------------------------------------------------\u001b[0m",
      "\u001b[1;31mKeyboardInterrupt\u001b[0m                         Traceback (most recent call last)",
      "Cell \u001b[1;32mIn[2], line 8\u001b[0m\n\u001b[0;32m      1\u001b[0m reading \u001b[39m=\u001b[39m df[\u001b[39m\"\u001b[39m\u001b[39mReading\u001b[39m\u001b[39m\"\u001b[39m]\u001b[39m.\u001b[39mastype(\u001b[39mstr\u001b[39m)\n\u001b[0;32m      2\u001b[0m reading_edited \u001b[39m=\u001b[39m (reading\n\u001b[0;32m      3\u001b[0m                     \u001b[39m# .swifter\u001b[39;00m\n\u001b[0;32m      4\u001b[0m                     \u001b[39m.\u001b[39mapply(BeautifulSoup, features \u001b[39m=\u001b[39m \u001b[39m\"\u001b[39m\u001b[39mhtml.parser\u001b[39m\u001b[39m\"\u001b[39m)\n\u001b[0;32m      5\u001b[0m                     \u001b[39m.\u001b[39mapply(\u001b[39mlambda\u001b[39;00m x: x\u001b[39m.\u001b[39mget_text()\u001b[39m.\u001b[39mstrip())\n\u001b[0;32m      6\u001b[0m                     \u001b[39m.\u001b[39mapply(PinyinToneConverter()\u001b[39m.\u001b[39mconvert_text)\n\u001b[0;32m      7\u001b[0m                 )\n\u001b[1;32m----> 8\u001b[0m reading_colored \u001b[39m=\u001b[39m reading_edited\u001b[39m.\u001b[39;49mapply(stylize_str)\n\u001b[0;32m      9\u001b[0m df[\u001b[39m\"\u001b[39m\u001b[39mReading\u001b[39m\u001b[39m\"\u001b[39m] \u001b[39m=\u001b[39m reading_colored\n\u001b[0;32m     11\u001b[0m num_edits \u001b[39m=\u001b[39m \u001b[39msum\u001b[39m(reading \u001b[39m!=\u001b[39m reading_edited)\n",
      "File \u001b[1;32mc:\\Users\\micha\\Documents\\git_projects\\anki_helpers\\.venv\\lib\\site-packages\\pandas\\core\\series.py:4626\u001b[0m, in \u001b[0;36mSeries.apply\u001b[1;34m(self, func, convert_dtype, args, **kwargs)\u001b[0m\n\u001b[0;32m   4516\u001b[0m \u001b[39mdef\u001b[39;00m \u001b[39mapply\u001b[39m(\n\u001b[0;32m   4517\u001b[0m     \u001b[39mself\u001b[39m,\n\u001b[0;32m   4518\u001b[0m     func: AggFuncType,\n\u001b[1;32m   (...)\u001b[0m\n\u001b[0;32m   4521\u001b[0m     \u001b[39m*\u001b[39m\u001b[39m*\u001b[39mkwargs,\n\u001b[0;32m   4522\u001b[0m ) \u001b[39m-\u001b[39m\u001b[39m>\u001b[39m DataFrame \u001b[39m|\u001b[39m Series:\n\u001b[0;32m   4523\u001b[0m \u001b[39m    \u001b[39m\u001b[39m\"\"\"\u001b[39;00m\n\u001b[0;32m   4524\u001b[0m \u001b[39m    Invoke function on values of Series.\u001b[39;00m\n\u001b[0;32m   4525\u001b[0m \n\u001b[1;32m   (...)\u001b[0m\n\u001b[0;32m   4624\u001b[0m \u001b[39m    dtype: float64\u001b[39;00m\n\u001b[0;32m   4625\u001b[0m \u001b[39m    \"\"\"\u001b[39;00m\n\u001b[1;32m-> 4626\u001b[0m     \u001b[39mreturn\u001b[39;00m SeriesApply(\u001b[39mself\u001b[39;49m, func, convert_dtype, args, kwargs)\u001b[39m.\u001b[39;49mapply()\n",
      "File \u001b[1;32mc:\\Users\\micha\\Documents\\git_projects\\anki_helpers\\.venv\\lib\\site-packages\\pandas\\core\\apply.py:1025\u001b[0m, in \u001b[0;36mSeriesApply.apply\u001b[1;34m(self)\u001b[0m\n\u001b[0;32m   1022\u001b[0m     \u001b[39mreturn\u001b[39;00m \u001b[39mself\u001b[39m\u001b[39m.\u001b[39mapply_str()\n\u001b[0;32m   1024\u001b[0m \u001b[39m# self.f is Callable\u001b[39;00m\n\u001b[1;32m-> 1025\u001b[0m \u001b[39mreturn\u001b[39;00m \u001b[39mself\u001b[39;49m\u001b[39m.\u001b[39;49mapply_standard()\n",
      "File \u001b[1;32mc:\\Users\\micha\\Documents\\git_projects\\anki_helpers\\.venv\\lib\\site-packages\\pandas\\core\\apply.py:1076\u001b[0m, in \u001b[0;36mSeriesApply.apply_standard\u001b[1;34m(self)\u001b[0m\n\u001b[0;32m   1074\u001b[0m     \u001b[39melse\u001b[39;00m:\n\u001b[0;32m   1075\u001b[0m         values \u001b[39m=\u001b[39m obj\u001b[39m.\u001b[39mastype(\u001b[39mobject\u001b[39m)\u001b[39m.\u001b[39m_values\n\u001b[1;32m-> 1076\u001b[0m         mapped \u001b[39m=\u001b[39m lib\u001b[39m.\u001b[39;49mmap_infer(\n\u001b[0;32m   1077\u001b[0m             values,\n\u001b[0;32m   1078\u001b[0m             f,\n\u001b[0;32m   1079\u001b[0m             convert\u001b[39m=\u001b[39;49m\u001b[39mself\u001b[39;49m\u001b[39m.\u001b[39;49mconvert_dtype,\n\u001b[0;32m   1080\u001b[0m         )\n\u001b[0;32m   1082\u001b[0m \u001b[39mif\u001b[39;00m \u001b[39mlen\u001b[39m(mapped) \u001b[39mand\u001b[39;00m \u001b[39misinstance\u001b[39m(mapped[\u001b[39m0\u001b[39m], ABCSeries):\n\u001b[0;32m   1083\u001b[0m     \u001b[39m# GH#43986 Need to do list(mapped) in order to get treated as nested\u001b[39;00m\n\u001b[0;32m   1084\u001b[0m     \u001b[39m#  See also GH#25959 regarding EA support\u001b[39;00m\n\u001b[0;32m   1085\u001b[0m     \u001b[39mreturn\u001b[39;00m obj\u001b[39m.\u001b[39m_constructor_expanddim(\u001b[39mlist\u001b[39m(mapped), index\u001b[39m=\u001b[39mobj\u001b[39m.\u001b[39mindex)\n",
      "File \u001b[1;32mc:\\Users\\micha\\Documents\\git_projects\\anki_helpers\\.venv\\lib\\site-packages\\pandas\\_libs\\lib.pyx:2834\u001b[0m, in \u001b[0;36mpandas._libs.lib.map_infer\u001b[1;34m()\u001b[0m\n",
      "File \u001b[1;32mc:\\Users\\micha\\Documents\\git_projects\\anki_helpers\\util_funcs.py:103\u001b[0m, in \u001b[0;36mstylize_str\u001b[1;34m(s_pin, s_char)\u001b[0m\n\u001b[0;32m    101\u001b[0m span_5 \u001b[39m=\u001b[39m \u001b[39m\"\u001b[39m\u001b[39m<span class = \u001b[39m\u001b[39m'\u001b[39m\u001b[39mtone5\u001b[39m\u001b[39m'\u001b[39m\u001b[39m>\u001b[39m\u001b[39m\"\u001b[39m\n\u001b[0;32m    102\u001b[0m end_span \u001b[39m=\u001b[39m \u001b[39m\"\u001b[39m\u001b[39m</span>\u001b[39m\u001b[39m\"\u001b[39m\n\u001b[1;32m--> 103\u001b[0m s_list \u001b[39m=\u001b[39m break_string(s_pin, s_char)\n\u001b[0;32m    104\u001b[0m s_out \u001b[39m=\u001b[39m \u001b[39m\"\u001b[39m\u001b[39m\"\u001b[39m\u001b[39m.\u001b[39mjoin([span_1 \u001b[39m+\u001b[39m s[\u001b[39m0\u001b[39m] \u001b[39m+\u001b[39m end_span \u001b[39mif\u001b[39;00m s[\u001b[39m1\u001b[39m] \u001b[39m==\u001b[39m \u001b[39m1\u001b[39m\n\u001b[0;32m    105\u001b[0m                     \u001b[39melse\u001b[39;00m span_2 \u001b[39m+\u001b[39m s[\u001b[39m0\u001b[39m] \u001b[39m+\u001b[39m end_span \u001b[39mif\u001b[39;00m s[\u001b[39m1\u001b[39m] \u001b[39m==\u001b[39m \u001b[39m2\u001b[39m\n\u001b[0;32m    106\u001b[0m                     \u001b[39melse\u001b[39;00m span_3 \u001b[39m+\u001b[39m s[\u001b[39m0\u001b[39m] \u001b[39m+\u001b[39m end_span \u001b[39mif\u001b[39;00m s[\u001b[39m1\u001b[39m] \u001b[39m==\u001b[39m \u001b[39m3\u001b[39m\n\u001b[0;32m    107\u001b[0m                     \u001b[39melse\u001b[39;00m span_4 \u001b[39m+\u001b[39m s[\u001b[39m0\u001b[39m] \u001b[39m+\u001b[39m end_span \u001b[39mif\u001b[39;00m s[\u001b[39m1\u001b[39m] \u001b[39m==\u001b[39m \u001b[39m4\u001b[39m\n\u001b[0;32m    108\u001b[0m                     \u001b[39melse\u001b[39;00m span_5 \u001b[39m+\u001b[39m s[\u001b[39m0\u001b[39m] \u001b[39m+\u001b[39m end_span\n\u001b[0;32m    109\u001b[0m                     \u001b[39mfor\u001b[39;00m s \u001b[39min\u001b[39;00m s_list])\n\u001b[0;32m    110\u001b[0m \u001b[39mreturn\u001b[39;00m s_out\n",
      "File \u001b[1;32mc:\\Users\\micha\\Documents\\git_projects\\anki_helpers\\util_funcs.py:79\u001b[0m, in \u001b[0;36mbreak_string\u001b[1;34m(s_pin, s_char)\u001b[0m\n\u001b[0;32m     78\u001b[0m \u001b[39mdef\u001b[39;00m \u001b[39mbreak_string\u001b[39m(s_pin: \u001b[39mstr\u001b[39m, s_char: \u001b[39mstr\u001b[39m \u001b[39m=\u001b[39m \u001b[39m\"\u001b[39m\u001b[39m\"\u001b[39m) \u001b[39m-\u001b[39m\u001b[39m>\u001b[39m \u001b[39mlist\u001b[39m:\n\u001b[1;32m---> 79\u001b[0m     s_broken \u001b[39m=\u001b[39m fully_break_string(s_pin, s_char)\n\u001b[0;32m     80\u001b[0m     output \u001b[39m=\u001b[39m []\n\u001b[0;32m     81\u001b[0m     in_process_syl \u001b[39m=\u001b[39m (\u001b[39m\"\u001b[39m\u001b[39m\"\u001b[39m, \u001b[39m5\u001b[39m)\n",
      "File \u001b[1;32mc:\\Users\\micha\\Documents\\git_projects\\anki_helpers\\util_funcs.py:72\u001b[0m, in \u001b[0;36mfully_break_string\u001b[1;34m(s_pin, s_char)\u001b[0m\n\u001b[0;32m     69\u001b[0m \u001b[39mdef\u001b[39;00m \u001b[39mfully_break_string\u001b[39m(s_pin: \u001b[39mstr\u001b[39m, s_char: \u001b[39mstr\u001b[39m \u001b[39m=\u001b[39m \u001b[39m\"\u001b[39m\u001b[39m\"\u001b[39m) \u001b[39m-\u001b[39m\u001b[39m>\u001b[39m \u001b[39mlist\u001b[39m:\n\u001b[0;32m     70\u001b[0m \u001b[39m    \u001b[39m\u001b[39m\"\"\"Break a string fully down to it's individual syllables with tone assignments.\u001b[39;00m\n\u001b[0;32m     71\u001b[0m \u001b[39m    This way can match characters to the tones of pinyin syllables. They will be combined in break_string.\"\"\"\u001b[39;00m\n\u001b[1;32m---> 72\u001b[0m     s_out \u001b[39m=\u001b[39m fully_break_string_prelim(s_pin)\n\u001b[0;32m     73\u001b[0m     \u001b[39mif\u001b[39;00m s_char \u001b[39m!=\u001b[39m \u001b[39m\"\u001b[39m\u001b[39m\"\u001b[39m:\n\u001b[0;32m     74\u001b[0m         s_char_list \u001b[39m=\u001b[39m fully_break_string_prelim(s_char)\n",
      "File \u001b[1;32mc:\\Users\\micha\\Documents\\git_projects\\anki_helpers\\util_funcs.py:65\u001b[0m, in \u001b[0;36mfully_break_string_prelim\u001b[1;34m(s)\u001b[0m\n\u001b[0;32m     63\u001b[0m     \u001b[39mwhile\u001b[39;00m (\u001b[39mlen\u001b[39m(s_list) \u001b[39m==\u001b[39m \u001b[39m1\u001b[39m) \u001b[39mand\u001b[39;00m (\u001b[39mtype\u001b[39m(s_list[\u001b[39m0\u001b[39m]) \u001b[39m==\u001b[39m \u001b[39mlist\u001b[39m): s_list \u001b[39m=\u001b[39m s_list[\u001b[39m0\u001b[39m]\n\u001b[0;32m     64\u001b[0m     s_list \u001b[39m=\u001b[39m \u001b[39mlist\u001b[39m(collapse(s_list))\n\u001b[1;32m---> 65\u001b[0m     is_broken \u001b[39m=\u001b[39m \u001b[39mall\u001b[39m([is_single_syl(s) \u001b[39mfor\u001b[39;00m s \u001b[39min\u001b[39;00m s_list])\n\u001b[0;32m     66\u001b[0m s_list \u001b[39m=\u001b[39m [get_tone(s) \u001b[39mfor\u001b[39;00m s \u001b[39min\u001b[39;00m s_list]\n\u001b[0;32m     67\u001b[0m \u001b[39mreturn\u001b[39;00m s_list\n",
      "File \u001b[1;32mc:\\Users\\micha\\Documents\\git_projects\\anki_helpers\\util_funcs.py:65\u001b[0m, in \u001b[0;36m<listcomp>\u001b[1;34m(.0)\u001b[0m\n\u001b[0;32m     63\u001b[0m     \u001b[39mwhile\u001b[39;00m (\u001b[39mlen\u001b[39m(s_list) \u001b[39m==\u001b[39m \u001b[39m1\u001b[39m) \u001b[39mand\u001b[39;00m (\u001b[39mtype\u001b[39m(s_list[\u001b[39m0\u001b[39m]) \u001b[39m==\u001b[39m \u001b[39mlist\u001b[39m): s_list \u001b[39m=\u001b[39m s_list[\u001b[39m0\u001b[39m]\n\u001b[0;32m     64\u001b[0m     s_list \u001b[39m=\u001b[39m \u001b[39mlist\u001b[39m(collapse(s_list))\n\u001b[1;32m---> 65\u001b[0m     is_broken \u001b[39m=\u001b[39m \u001b[39mall\u001b[39m([is_single_syl(s) \u001b[39mfor\u001b[39;00m s \u001b[39min\u001b[39;00m s_list])\n\u001b[0;32m     66\u001b[0m s_list \u001b[39m=\u001b[39m [get_tone(s) \u001b[39mfor\u001b[39;00m s \u001b[39min\u001b[39;00m s_list]\n\u001b[0;32m     67\u001b[0m \u001b[39mreturn\u001b[39;00m s_list\n",
      "File \u001b[1;32mc:\\Users\\micha\\Documents\\git_projects\\anki_helpers\\util_funcs.py:18\u001b[0m, in \u001b[0;36mis_single_syl\u001b[1;34m(s)\u001b[0m\n\u001b[0;32m     16\u001b[0m     \u001b[39mreturn\u001b[39;00m \u001b[39mFalse\u001b[39;00m\n\u001b[0;32m     17\u001b[0m s_is_pinyin_syl \u001b[39m=\u001b[39m s \u001b[39min\u001b[39;00m pin_all_syl\n\u001b[1;32m---> 18\u001b[0m s_no_pinyin \u001b[39m=\u001b[39m \u001b[39msum\u001b[39m([\u001b[39mlen\u001b[39m(re\u001b[39m.\u001b[39mfindall(syl, s)) \u001b[39mfor\u001b[39;00m syl \u001b[39min\u001b[39;00m pin_all_syl]) \u001b[39m==\u001b[39m \u001b[39m0\u001b[39m\n\u001b[0;32m     19\u001b[0m \u001b[39mreturn\u001b[39;00m s_is_pinyin_syl \u001b[39mor\u001b[39;00m s_no_pinyin\n",
      "File \u001b[1;32mc:\\Users\\micha\\Documents\\git_projects\\anki_helpers\\util_funcs.py:18\u001b[0m, in \u001b[0;36m<listcomp>\u001b[1;34m(.0)\u001b[0m\n\u001b[0;32m     16\u001b[0m     \u001b[39mreturn\u001b[39;00m \u001b[39mFalse\u001b[39;00m\n\u001b[0;32m     17\u001b[0m s_is_pinyin_syl \u001b[39m=\u001b[39m s \u001b[39min\u001b[39;00m pin_all_syl\n\u001b[1;32m---> 18\u001b[0m s_no_pinyin \u001b[39m=\u001b[39m \u001b[39msum\u001b[39m([\u001b[39mlen\u001b[39m(re\u001b[39m.\u001b[39;49mfindall(syl, s)) \u001b[39mfor\u001b[39;00m syl \u001b[39min\u001b[39;00m pin_all_syl]) \u001b[39m==\u001b[39m \u001b[39m0\u001b[39m\n\u001b[0;32m     19\u001b[0m \u001b[39mreturn\u001b[39;00m s_is_pinyin_syl \u001b[39mor\u001b[39;00m s_no_pinyin\n",
      "File \u001b[1;32m~\\AppData\\Local\\Programs\\Python\\Python38-32\\lib\\re.py:239\u001b[0m, in \u001b[0;36mfindall\u001b[1;34m(pattern, string, flags)\u001b[0m\n\u001b[0;32m    231\u001b[0m \u001b[39mdef\u001b[39;00m \u001b[39mfindall\u001b[39m(pattern, string, flags\u001b[39m=\u001b[39m\u001b[39m0\u001b[39m):\n\u001b[0;32m    232\u001b[0m \u001b[39m    \u001b[39m\u001b[39m\"\"\"Return a list of all non-overlapping matches in the string.\u001b[39;00m\n\u001b[0;32m    233\u001b[0m \n\u001b[0;32m    234\u001b[0m \u001b[39m    If one or more capturing groups are present in the pattern, return\u001b[39;00m\n\u001b[1;32m   (...)\u001b[0m\n\u001b[0;32m    237\u001b[0m \n\u001b[0;32m    238\u001b[0m \u001b[39m    Empty matches are included in the result.\"\"\"\u001b[39;00m\n\u001b[1;32m--> 239\u001b[0m     \u001b[39mreturn\u001b[39;00m _compile(pattern, flags)\u001b[39m.\u001b[39mfindall(string)\n",
      "File \u001b[1;32m~\\AppData\\Local\\Programs\\Python\\Python38-32\\lib\\re.py:302\u001b[0m, in \u001b[0;36m_compile\u001b[1;34m(pattern, flags)\u001b[0m\n\u001b[0;32m    300\u001b[0m \u001b[39mif\u001b[39;00m \u001b[39mnot\u001b[39;00m sre_compile\u001b[39m.\u001b[39misstring(pattern):\n\u001b[0;32m    301\u001b[0m     \u001b[39mraise\u001b[39;00m \u001b[39mTypeError\u001b[39;00m(\u001b[39m\"\u001b[39m\u001b[39mfirst argument must be string or compiled pattern\u001b[39m\u001b[39m\"\u001b[39m)\n\u001b[1;32m--> 302\u001b[0m p \u001b[39m=\u001b[39m sre_compile\u001b[39m.\u001b[39;49mcompile(pattern, flags)\n\u001b[0;32m    303\u001b[0m \u001b[39mif\u001b[39;00m \u001b[39mnot\u001b[39;00m (flags \u001b[39m&\u001b[39m DEBUG):\n\u001b[0;32m    304\u001b[0m     \u001b[39mif\u001b[39;00m \u001b[39mlen\u001b[39m(_cache) \u001b[39m>\u001b[39m\u001b[39m=\u001b[39m _MAXCACHE:\n\u001b[0;32m    305\u001b[0m         \u001b[39m# Drop the oldest item\u001b[39;00m\n",
      "File \u001b[1;32m~\\AppData\\Local\\Programs\\Python\\Python38-32\\lib\\sre_compile.py:764\u001b[0m, in \u001b[0;36mcompile\u001b[1;34m(p, flags)\u001b[0m\n\u001b[0;32m    762\u001b[0m \u001b[39mif\u001b[39;00m isstring(p):\n\u001b[0;32m    763\u001b[0m     pattern \u001b[39m=\u001b[39m p\n\u001b[1;32m--> 764\u001b[0m     p \u001b[39m=\u001b[39m sre_parse\u001b[39m.\u001b[39;49mparse(p, flags)\n\u001b[0;32m    765\u001b[0m \u001b[39melse\u001b[39;00m:\n\u001b[0;32m    766\u001b[0m     pattern \u001b[39m=\u001b[39m \u001b[39mNone\u001b[39;00m\n",
      "File \u001b[1;32m~\\AppData\\Local\\Programs\\Python\\Python38-32\\lib\\sre_parse.py:940\u001b[0m, in \u001b[0;36mparse\u001b[1;34m(str, flags, state)\u001b[0m\n\u001b[0;32m    937\u001b[0m \u001b[39mdef\u001b[39;00m \u001b[39mparse\u001b[39m(\u001b[39mstr\u001b[39m, flags\u001b[39m=\u001b[39m\u001b[39m0\u001b[39m, state\u001b[39m=\u001b[39m\u001b[39mNone\u001b[39;00m):\n\u001b[0;32m    938\u001b[0m     \u001b[39m# parse 're' pattern into list of (opcode, argument) tuples\u001b[39;00m\n\u001b[1;32m--> 940\u001b[0m     source \u001b[39m=\u001b[39m Tokenizer(\u001b[39mstr\u001b[39;49m)\n\u001b[0;32m    942\u001b[0m     \u001b[39mif\u001b[39;00m state \u001b[39mis\u001b[39;00m \u001b[39mNone\u001b[39;00m:\n\u001b[0;32m    943\u001b[0m         state \u001b[39m=\u001b[39m State()\n",
      "File \u001b[1;32m~\\AppData\\Local\\Programs\\Python\\Python38-32\\lib\\sre_parse.py:226\u001b[0m, in \u001b[0;36mTokenizer.__init__\u001b[1;34m(self, string)\u001b[0m\n\u001b[0;32m    224\u001b[0m \u001b[39mdef\u001b[39;00m \u001b[39m__init__\u001b[39m(\u001b[39mself\u001b[39m, string):\n\u001b[0;32m    225\u001b[0m     \u001b[39mself\u001b[39m\u001b[39m.\u001b[39mistext \u001b[39m=\u001b[39m \u001b[39misinstance\u001b[39m(string, \u001b[39mstr\u001b[39m)\n\u001b[1;32m--> 226\u001b[0m     \u001b[39mself\u001b[39;49m\u001b[39m.\u001b[39;49mstring \u001b[39m=\u001b[39m string\n\u001b[0;32m    227\u001b[0m     \u001b[39mif\u001b[39;00m \u001b[39mnot\u001b[39;00m \u001b[39mself\u001b[39m\u001b[39m.\u001b[39mistext:\n\u001b[0;32m    228\u001b[0m         string \u001b[39m=\u001b[39m \u001b[39mstr\u001b[39m(string, \u001b[39m'\u001b[39m\u001b[39mlatin1\u001b[39m\u001b[39m'\u001b[39m)\n",
      "\u001b[1;31mKeyboardInterrupt\u001b[0m: "
     ]
    }
   ],
   "source": [
    "reading = df[\"Reading\"].astype(str)\n",
    "reading_edited = (reading\n",
    "                    # .swifter\n",
    "                    .apply(BeautifulSoup, features = \"html.parser\")\n",
    "                    .apply(lambda x: x.get_text().strip())\n",
    "                    .apply(PinyinToneConverter().convert_text)\n",
    "                )\n",
    "reading_colored = reading_edited.apply(stylize_str)\n",
    "df[\"Reading\"] = reading_colored\n",
    "\n",
    "num_edits = sum(reading != reading_edited)\n",
    "print(f\"Number of cells edited: {num_edits} ({num_edits / df.shape[0]:.1%})\")\n",
    "df.head()"
   ]
  },
  {
   "attachments": {},
   "cell_type": "markdown",
   "metadata": {},
   "source": [
    "## Meaning"
   ]
  },
  {
   "cell_type": "code",
   "execution_count": null,
   "metadata": {},
   "outputs": [],
   "source": [
    "meaning = df[\"Meaning\"].astype(str)\n",
    "meaning_edited = meaning.apply(strip_html)\n",
    "meaning_edited[meaning_edited != meaning].head()"
   ]
  },
  {
   "attachments": {},
   "cell_type": "markdown",
   "metadata": {},
   "source": [
    "## Color"
   ]
  },
  {
   "cell_type": "code",
   "execution_count": null,
   "metadata": {},
   "outputs": [],
   "source": [
    "def pinyin_to_numbers_basic(x: str): \n",
    "    \"\"\"Preliminary version that ignores neutral tone and leaves numbers as is.\"\"\"\n",
    "    conv_dict = {v : k for (k,v) in pin2num.items()}\n",
    "    for k, v in conv_dict.items():\n",
    "        x = x.replace(k, v)\n",
    "    x = re.findall(r'\\d+', x)\n",
    "    return x\n",
    "\n",
    "def pinyin_to_numbers(x: str):\n",
    "    \"\"\"Final version\"\"\"\n",
    "    nested_list = [pinyin_to_numbers_basic(syl) if pinyin_to_numbers_basic(syl) != [] else ['0'] for syl in x.strip().split(' ')]\n",
    "    out_flat = [element for sublist in nested_list for element in sublist]\n",
    "    return out_flat\n",
    "    \n",
    "\n",
    "pinyin_to_numbers(\"A shì B de héxīn\")\n",
    "pinyin_to_numbers(\"gōngyuán qián 44 nian2\")\n",
    "\n",
    "x = \"gōngbá'nián\""
   ]
  }
 ],
 "metadata": {
  "kernelspec": {
   "display_name": ".venv",
   "language": "python",
   "name": "python3"
  },
  "language_info": {
   "codemirror_mode": {
    "name": "ipython",
    "version": 3
   },
   "file_extension": ".py",
   "mimetype": "text/x-python",
   "name": "python",
   "nbconvert_exporter": "python",
   "pygments_lexer": "ipython3",
   "version": "3.8.2"
  },
  "orig_nbformat": 4
 },
 "nbformat": 4,
 "nbformat_minor": 2
}
