{
 "cells": [
  {
   "attachments": {},
   "cell_type": "markdown",
   "metadata": {},
   "source": [
    "## Import"
   ]
  },
  {
   "cell_type": "code",
   "execution_count": 1,
   "metadata": {},
   "outputs": [
    {
     "name": "stdout",
     "output_type": "stream",
     "text": [
      "Shape: (1895, 8)\n"
     ]
    },
    {
     "data": {
      "text/html": [
       "<div>\n",
       "<style scoped>\n",
       "    .dataframe tbody tr th:only-of-type {\n",
       "        vertical-align: middle;\n",
       "    }\n",
       "\n",
       "    .dataframe tbody tr th {\n",
       "        vertical-align: top;\n",
       "    }\n",
       "\n",
       "    .dataframe thead th {\n",
       "        text-align: right;\n",
       "    }\n",
       "</style>\n",
       "<table border=\"1\" class=\"dataframe\">\n",
       "  <thead>\n",
       "    <tr style=\"text-align: right;\">\n",
       "      <th></th>\n",
       "      <th>Hanzi</th>\n",
       "      <th>Meaning</th>\n",
       "      <th>Reading</th>\n",
       "      <th>Color</th>\n",
       "      <th>Mean Word</th>\n",
       "      <th>Sound</th>\n",
       "      <th>Traditional</th>\n",
       "      <th>Silhouette</th>\n",
       "    </tr>\n",
       "  </thead>\n",
       "  <tbody>\n",
       "    <tr>\n",
       "      <th>0</th>\n",
       "      <td>滑稽</td>\n",
       "      <td>funny (w/ h)&lt;div&gt;comical&lt;/div&gt;&lt;div&gt;amusing&lt;/div&gt;</td>\n",
       "      <td>huájī</td>\n",
       "      <td>滑稽</td>\n",
       "      <td>NaN</td>\n",
       "      <td>NaN</td>\n",
       "      <td>NaN</td>\n",
       "      <td>NaN</td>\n",
       "    </tr>\n",
       "    <tr>\n",
       "      <th>1</th>\n",
       "      <td>不禁</td>\n",
       "      <td>\"can't help (doing something)\"</td>\n",
       "      <td>bùjīn</td>\n",
       "      <td>不禁</td>\n",
       "      <td>NaN</td>\n",
       "      <td>NaN</td>\n",
       "      <td>NaN</td>\n",
       "      <td>_ _</td>\n",
       "    </tr>\n",
       "    <tr>\n",
       "      <th>2</th>\n",
       "      <td>湖面</td>\n",
       "      <td>surface of a lake</td>\n",
       "      <td>húmiàn</td>\n",
       "      <td>湖面</td>\n",
       "      <td>NaN</td>\n",
       "      <td>NaN</td>\n",
       "      <td>NaN</td>\n",
       "      <td>NaN</td>\n",
       "    </tr>\n",
       "    <tr>\n",
       "      <th>3</th>\n",
       "      <td>打翻</td>\n",
       "      <td>&lt;div&gt;to knock over&lt;/div&gt;to overturn&lt;div&gt;to ove...</td>\n",
       "      <td>dǎfān</td>\n",
       "      <td>打翻</td>\n",
       "      <td>NaN</td>\n",
       "      <td>NaN</td>\n",
       "      <td>NaN</td>\n",
       "      <td>_ _</td>\n",
       "    </tr>\n",
       "    <tr>\n",
       "      <th>4</th>\n",
       "      <td>友谊</td>\n",
       "      <td>friendship&lt;div&gt;companionship&lt;/div&gt;</td>\n",
       "      <td>yǒuyì</td>\n",
       "      <td>友谊</td>\n",
       "      <td>NaN</td>\n",
       "      <td>NaN</td>\n",
       "      <td>NaN</td>\n",
       "      <td>NaN</td>\n",
       "    </tr>\n",
       "  </tbody>\n",
       "</table>\n",
       "</div>"
      ],
      "text/plain": [
       "  Hanzi                                            Meaning Reading Color  \\\n",
       "0    滑稽   funny (w/ h)<div>comical</div><div>amusing</div>   huájī    滑稽   \n",
       "1    不禁                     \"can't help (doing something)\"   bùjīn    不禁   \n",
       "2    湖面                                  surface of a lake  húmiàn    湖面   \n",
       "3    打翻  <div>to knock over</div>to overturn<div>to ove...   dǎfān    打翻   \n",
       "4    友谊                 friendship<div>companionship</div>   yǒuyì    友谊   \n",
       "\n",
       "  Mean Word Sound Traditional Silhouette  \n",
       "0       NaN   NaN         NaN        NaN  \n",
       "1       NaN   NaN         NaN        _ _  \n",
       "2       NaN   NaN         NaN        NaN  \n",
       "3       NaN   NaN         NaN        _ _  \n",
       "4       NaN   NaN         NaN        NaN  "
      ]
     },
     "execution_count": 1,
     "metadata": {},
     "output_type": "execute_result"
    }
   ],
   "source": [
    "import pandas as pd\n",
    "\n",
    "path = \"Active_Chinese_20230503.csv\"\n",
    "cols = [\"Hanzi\", \"Meaning\", \"Reading\", \"Color\", \"Mean Word\", \"Sound\", \"Traditional\", \"Silhouette\"]\n",
    "df = pd.read_csv(path)[cols]\n",
    "\n",
    "print(\"Shape:\", df.shape)\n",
    "df.head()"
   ]
  },
  {
   "attachments": {},
   "cell_type": "markdown",
   "metadata": {},
   "source": [
    "## Reading Col"
   ]
  },
  {
   "cell_type": "code",
   "execution_count": 2,
   "metadata": {},
   "outputs": [
    {
     "data": {
      "text/plain": [
       "6     \"<span class=\"\"tone1\"\">jīng</span><span class=...\n",
       "10    \"<span class=\"\"tone2\"\">cí</span><span class=\"\"...\n",
       "15                                                 dun4\n",
       "20    \"<span class=\"\"tone4\"\">zhàn</span> <span class...\n",
       "26    \"<span class=\"\"tone1\"\">huī</span><span class=\"...\n",
       "Name: Reading, dtype: object"
      ]
     },
     "execution_count": 2,
     "metadata": {},
     "output_type": "execute_result"
    }
   ],
   "source": [
    "def has_numbers(inputString):\n",
    "    return any(char.isdigit() for char in inputString)\n",
    "\n",
    "reading = df[\"Reading\"].astype(str)\n",
    "reading[reading.apply(has_numbers)].head()"
   ]
  },
  {
   "cell_type": "code",
   "execution_count": 3,
   "metadata": {},
   "outputs": [
    {
     "data": {
      "text/plain": [
       "212       gōngyuán 1500 nián\n",
       "213    gōngyuán qián 44 nián\n",
       "Name: Reading, dtype: object"
      ]
     },
     "execution_count": 3,
     "metadata": {},
     "output_type": "execute_result"
    }
   ],
   "source": [
    "from bs4 import BeautifulSoup\n",
    "from pinyin_tone_converter.pinyin_tone_converter import PinyinToneConverter\n",
    "from pinyin_dict import *\n",
    "\n",
    "reading_edited = (reading\n",
    "                    .apply(BeautifulSoup, features = \"html.parser\")\n",
    "                    .apply(lambda x: x.get_text().strip())\n",
    "                    .apply(PinyinToneConverter().convert_text)\n",
    "                )\n",
    "\n",
    "df[\"Reading\"] = reading_edited\n",
    "df[\"Reading\"][df[\"Reading\"].apply(has_numbers)]"
   ]
  },
  {
   "attachments": {},
   "cell_type": "markdown",
   "metadata": {},
   "source": [
    "## Meaning"
   ]
  },
  {
   "cell_type": "code",
   "execution_count": 4,
   "metadata": {},
   "outputs": [
    {
     "data": {
      "text/plain": [
       "'Your \"\"\"\"\"\"Mom<br>is awesome'"
      ]
     },
     "execution_count": 4,
     "metadata": {},
     "output_type": "execute_result"
    }
   ],
   "source": [
    "import re\n",
    "\n",
    "def strip_html(x: str):\n",
    "    CLEANR = re.compile(r'<.*?>|&([a-z0-9]+|#[0-9]{1,6}|#x[0-9a-f]{1,6});')\n",
    "\n",
    "    while True:\n",
    "        input = x\n",
    "        x = x.strip()\n",
    "        x = re.sub(r\"(^<div>|</div>$)\", r\"\", x)\n",
    "        x = re.sub(r\"(<div>|</div>|<br>)\", r\"\\n\", x)\n",
    "        x = re.sub(r\"\\n\\s*\\n\", r\"\\n\", x)\n",
    "        x = re.sub(CLEANR, r\"\", x)\n",
    "        if x == input:\n",
    "            break\n",
    "\n",
    "    while True:\n",
    "        input = x\n",
    "        x = re.sub(r\"\\n\", r\"<br>\", x)\n",
    "        if x == input:\n",
    "            break\n",
    "\n",
    "    return(x)\n",
    "\n",
    "strip_html('<div>Your \"\"\"<span style=\"\"\"\"color: var(--field-fg); font-family: -apple-system-body; background: var(--field-bg);\"\"\"\">\"\"\"Mom</span></div> <div> <br><br>\\n\\n    <br>\\nis awesome</div> ')"
   ]
  },
  {
   "cell_type": "code",
   "execution_count": 5,
   "metadata": {},
   "outputs": [
    {
     "data": {
      "text/plain": [
       "0                   funny (w/ h)<br>comical<br>amusing\n",
       "3         to knock over<br>to overturn<br>to overthrow\n",
       "4                          friendship<br>companionship\n",
       "5                                      core<br>nucleus\n",
       "6    to master<br>to be proficient in<br>to be well...\n",
       "Name: Meaning, dtype: object"
      ]
     },
     "execution_count": 5,
     "metadata": {},
     "output_type": "execute_result"
    }
   ],
   "source": [
    "meaning = df[\"Meaning\"].astype(str)\n",
    "meaning_edited = meaning.apply(strip_html)\n",
    "meaning_edited[meaning_edited != meaning].head()"
   ]
  },
  {
   "cell_type": "markdown",
   "metadata": {},
   "source": [
    "## Color"
   ]
  },
  {
   "cell_type": "code",
   "execution_count": 39,
   "metadata": {},
   "outputs": [
    {
     "data": {
      "text/plain": [
       "['1', '2', '44', '2']"
      ]
     },
     "execution_count": 39,
     "metadata": {},
     "output_type": "execute_result"
    }
   ],
   "source": [
    "def pinyin_to_numbers_basic(x: str): \n",
    "    conv_dict = {v : k for (k,v) in correctInputAndOutput.items()}\n",
    "    for k, v in conv_dict.items():\n",
    "        x = x.replace(k, v)\n",
    "    x = re.findall(r'\\d+', x)\n",
    "    return x\n",
    "\n",
    "def pinyin_to_numbers(x: str):\n",
    "    nested_list = [pinyin_to_numbers_basic(syl) if pinyin_to_numbers_basic(syl) != [] else ['0'] for syl in x.split(' ')]\n",
    "    out_flat = [element for sublist in nested_list for element in sublist]\n",
    "    return out_flat\n",
    "\n",
    "pinyin_to_numbers('gōngyuán qián')\n",
    "pinyin_to_numbers('A shì B de héxīn')\n",
    "pinyin_to_numbers_basic('gōngyuán 44 qián')\n"
   ]
  },
  {
   "cell_type": "code",
   "execution_count": 35,
   "metadata": {},
   "outputs": [
    {
     "name": "stdout",
     "output_type": "stream",
     "text": [
      "Object `flatten` not found.\n"
     ]
    }
   ],
   "source": [
    "flatten?"
   ]
  },
  {
   "cell_type": "code",
   "execution_count": 18,
   "metadata": {},
   "outputs": [
    {
     "data": {
      "text/plain": [
       "0       [2, 1]\n",
       "1       [4, 1]\n",
       "2       [2, 4]\n",
       "3       [3, 1]\n",
       "4       [3, 4]\n",
       "         ...  \n",
       "1890    [4, 4]\n",
       "1891    [3, 3]\n",
       "1892    [1, 1]\n",
       "1893       [1]\n",
       "1894       [3]\n",
       "Name: Reading, Length: 1895, dtype: object"
      ]
     },
     "execution_count": 18,
     "metadata": {},
     "output_type": "execute_result"
    }
   ],
   "source": [
    "reading_edited.apply(pinyin_to_numbers)"
   ]
  },
  {
   "cell_type": "code",
   "execution_count": 24,
   "metadata": {},
   "outputs": [
    {
     "data": {
      "text/html": [
       "<div>\n",
       "<style scoped>\n",
       "    .dataframe tbody tr th:only-of-type {\n",
       "        vertical-align: middle;\n",
       "    }\n",
       "\n",
       "    .dataframe tbody tr th {\n",
       "        vertical-align: top;\n",
       "    }\n",
       "\n",
       "    .dataframe thead th {\n",
       "        text-align: right;\n",
       "    }\n",
       "</style>\n",
       "<table border=\"1\" class=\"dataframe\">\n",
       "  <thead>\n",
       "    <tr style=\"text-align: right;\">\n",
       "      <th></th>\n",
       "      <th>Hanzi</th>\n",
       "      <th>Meaning</th>\n",
       "      <th>Reading</th>\n",
       "      <th>Color</th>\n",
       "      <th>Mean Word</th>\n",
       "      <th>Sound</th>\n",
       "      <th>Traditional</th>\n",
       "      <th>Silhouette</th>\n",
       "    </tr>\n",
       "  </thead>\n",
       "  <tbody>\n",
       "    <tr>\n",
       "      <th>12</th>\n",
       "      <td>A是B的核心</td>\n",
       "      <td>A is central to B</td>\n",
       "      <td>A shì B de héxīn</td>\n",
       "      <td>A是B的核心</td>\n",
       "      <td>NaN</td>\n",
       "      <td>NaN</td>\n",
       "      <td>NaN</td>\n",
       "      <td>NaN</td>\n",
       "    </tr>\n",
       "    <tr>\n",
       "      <th>24</th>\n",
       "      <td>玫瑰花</td>\n",
       "      <td>rose</td>\n",
       "      <td>méigui huā</td>\n",
       "      <td>玫瑰花</td>\n",
       "      <td>朵</td>\n",
       "      <td>NaN</td>\n",
       "      <td>NaN</td>\n",
       "      <td>NaN</td>\n",
       "    </tr>\n",
       "    <tr>\n",
       "      <th>28</th>\n",
       "      <td>靠得住</td>\n",
       "      <td>reliable&lt;br&gt;can be counted on</td>\n",
       "      <td>kào de zhù</td>\n",
       "      <td>靠得住</td>\n",
       "      <td>NaN</td>\n",
       "      <td>NaN</td>\n",
       "      <td>NaN</td>\n",
       "      <td>_ 得 _</td>\n",
       "    </tr>\n",
       "    <tr>\n",
       "      <th>31</th>\n",
       "      <td>棒子</td>\n",
       "      <td>stick&lt;br&gt;club&lt;br&gt;cudgel</td>\n",
       "      <td>bàngzi</td>\n",
       "      <td>棒子</td>\n",
       "      <td>NaN</td>\n",
       "      <td>NaN</td>\n",
       "      <td>NaN</td>\n",
       "      <td>_ _</td>\n",
       "    </tr>\n",
       "    <tr>\n",
       "      <th>55</th>\n",
       "      <td>相对于。。。</td>\n",
       "      <td>as opposed to</td>\n",
       "      <td>xiāngduì yú...</td>\n",
       "      <td>相对于。。。</td>\n",
       "      <td>NaN</td>\n",
       "      <td>NaN</td>\n",
       "      <td>NaN</td>\n",
       "      <td>NaN</td>\n",
       "    </tr>\n",
       "    <tr>\n",
       "      <th>...</th>\n",
       "      <td>...</td>\n",
       "      <td>...</td>\n",
       "      <td>...</td>\n",
       "      <td>...</td>\n",
       "      <td>...</td>\n",
       "      <td>...</td>\n",
       "      <td>...</td>\n",
       "      <td>...</td>\n",
       "    </tr>\n",
       "    <tr>\n",
       "      <th>1823</th>\n",
       "      <td>牛顿</td>\n",
       "      <td>Newton</td>\n",
       "      <td>Niúdùn</td>\n",
       "      <td>牛顿</td>\n",
       "      <td>NaN</td>\n",
       "      <td>NaN</td>\n",
       "      <td>NaN</td>\n",
       "      <td>NaN</td>\n",
       "    </tr>\n",
       "    <tr>\n",
       "      <th>1839</th>\n",
       "      <td>佣 (4th tone)</td>\n",
       "      <td>commission/fee</td>\n",
       "      <td>yòng</td>\n",
       "      <td>佣</td>\n",
       "      <td>NaN</td>\n",
       "      <td>NaN</td>\n",
       "      <td>NaN</td>\n",
       "      <td>NaN</td>\n",
       "    </tr>\n",
       "    <tr>\n",
       "      <th>1840</th>\n",
       "      <td>佣 (1st tone)</td>\n",
       "      <td>to hire, to employ</td>\n",
       "      <td>yōng</td>\n",
       "      <td>佣</td>\n",
       "      <td>NaN</td>\n",
       "      <td>NaN</td>\n",
       "      <td>NaN</td>\n",
       "      <td>NaN</td>\n",
       "    </tr>\n",
       "    <tr>\n",
       "      <th>1883</th>\n",
       "      <td>合法化</td>\n",
       "      <td>to legalize&lt;br&gt;legalization</td>\n",
       "      <td>合法化</td>\n",
       "      <td>合法化</td>\n",
       "      <td>NaN</td>\n",
       "      <td>NaN</td>\n",
       "      <td>NaN</td>\n",
       "      <td>NaN</td>\n",
       "    </tr>\n",
       "    <tr>\n",
       "      <th>1886</th>\n",
       "      <td>民主国家</td>\n",
       "      <td>a Democracy&lt;br&gt;a democratic country</td>\n",
       "      <td>民主国家</td>\n",
       "      <td>民主国家</td>\n",
       "      <td>NaN</td>\n",
       "      <td>NaN</td>\n",
       "      <td>NaN</td>\n",
       "      <td>NaN</td>\n",
       "    </tr>\n",
       "  </tbody>\n",
       "</table>\n",
       "<p>175 rows × 8 columns</p>\n",
       "</div>"
      ],
      "text/plain": [
       "             Hanzi                              Meaning           Reading  \\\n",
       "12          A是B的核心                    A is central to B  A shì B de héxīn   \n",
       "24             玫瑰花                                 rose        méigui huā   \n",
       "28             靠得住        reliable<br>can be counted on        kào de zhù   \n",
       "31              棒子              stick<br>club<br>cudgel            bàngzi   \n",
       "55          相对于。。。                        as opposed to    xiāngduì yú...   \n",
       "...            ...                                  ...               ...   \n",
       "1823            牛顿                               Newton            Niúdùn   \n",
       "1839  佣 (4th tone)                       commission/fee              yòng   \n",
       "1840  佣 (1st tone)                   to hire, to employ              yōng   \n",
       "1883           合法化          to legalize<br>legalization               合法化   \n",
       "1886          民主国家  a Democracy<br>a democratic country              民主国家   \n",
       "\n",
       "       Color Mean Word Sound Traditional Silhouette  \n",
       "12    A是B的核心       NaN   NaN         NaN        NaN  \n",
       "24       玫瑰花         朵   NaN         NaN        NaN  \n",
       "28       靠得住       NaN   NaN         NaN      _ 得 _  \n",
       "31        棒子       NaN   NaN         NaN        _ _  \n",
       "55    相对于。。。       NaN   NaN         NaN        NaN  \n",
       "...      ...       ...   ...         ...        ...  \n",
       "1823      牛顿       NaN   NaN         NaN        NaN  \n",
       "1839       佣       NaN   NaN         NaN        NaN  \n",
       "1840       佣       NaN   NaN         NaN        NaN  \n",
       "1883     合法化       NaN   NaN         NaN        NaN  \n",
       "1886    民主国家       NaN   NaN         NaN        NaN  \n",
       "\n",
       "[175 rows x 8 columns]"
      ]
     },
     "execution_count": 24,
     "metadata": {},
     "output_type": "execute_result"
    }
   ],
   "source": [
    "hanzi = df[\"Hanzi\"]\n",
    "df[hanzi.apply(len) != reading_edited.apply(pinyin_to_numbers).apply(len)]"
   ]
  }
 ],
 "metadata": {
  "kernelspec": {
   "display_name": ".venv",
   "language": "python",
   "name": "python3"
  },
  "language_info": {
   "codemirror_mode": {
    "name": "ipython",
    "version": 3
   },
   "file_extension": ".py",
   "mimetype": "text/x-python",
   "name": "python",
   "nbconvert_exporter": "python",
   "pygments_lexer": "ipython3",
   "version": "3.8.2"
  },
  "orig_nbformat": 4
 },
 "nbformat": 4,
 "nbformat_minor": 2
}
